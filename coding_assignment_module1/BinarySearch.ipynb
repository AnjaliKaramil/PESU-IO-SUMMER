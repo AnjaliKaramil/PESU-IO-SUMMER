{
 "cells": [
  {
   "cell_type": "code",
   "execution_count": 14,
   "metadata": {},
   "outputs": [
    {
     "name": "stdout",
     "output_type": "stream",
     "text": [
      "Enter List (sorted): [1,2,6,7,10]\n",
      "Enter number to be searched for: 7\n",
      "7 is present in [1, 2, 6, 7, 10] at index 3\n"
     ]
    }
   ],
   "source": [
    "'''3. Write a python program for binary search to search a number in the list of given numbers.\n",
    "If the number isn't present, give the appropriate message.\n",
    "Both the list and the number to be searched is given by the user.''' \n",
    "\n",
    "def bin_search(lval, elem):\n",
    "    beg, end = 0, len(lval)-1;\n",
    "    while(beg<=end):\n",
    "        mid = (beg+end)//2;\n",
    "        if(elem>lval[mid]):\n",
    "            beg = mid+1\n",
    "        elif(elem<lval[mid]):\n",
    "            end = mid-1;\n",
    "        else:\n",
    "            return mid;\n",
    "    else:\n",
    "        print(\"%d is not present in\" % elem, lval)\n",
    "        return -1\n",
    "    \n",
    "    \n",
    "#main:\n",
    "alist = eval(input(\"Enter List (sorted): \"))\n",
    "req_num = int(input(\"Enter number to be searched for: \"))\n",
    "pos = bin_search(alist, req_num)\n",
    "if(pos !=-1):\n",
    "    print(\"%d is present in %s at index %d\" % (req_num, alist, pos))\n",
    "    \n",
    "        \n",
    "            \n",
    "        \n",
    "        "
   ]
  },
  {
   "cell_type": "code",
   "execution_count": null,
   "metadata": {},
   "outputs": [],
   "source": []
  },
  {
   "cell_type": "code",
   "execution_count": null,
   "metadata": {},
   "outputs": [],
   "source": []
  }
 ],
 "metadata": {
  "kernelspec": {
   "display_name": "Python 3",
   "language": "python",
   "name": "python3"
  },
  "language_info": {
   "codemirror_mode": {
    "name": "ipython",
    "version": 3
   },
   "file_extension": ".py",
   "mimetype": "text/x-python",
   "name": "python",
   "nbconvert_exporter": "python",
   "pygments_lexer": "ipython3",
   "version": "3.7.3"
  }
 },
 "nbformat": 4,
 "nbformat_minor": 2
}
