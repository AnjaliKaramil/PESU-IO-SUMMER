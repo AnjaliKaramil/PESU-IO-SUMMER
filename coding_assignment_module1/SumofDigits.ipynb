{
 "cells": [
  {
   "cell_type": "code",
   "execution_count": 4,
   "metadata": {},
   "outputs": [
    {
     "name": "stdout",
     "output_type": "stream",
     "text": [
      "Enter a number: 133\n",
      "The sum of the digits of 133 is 7\n"
     ]
    }
   ],
   "source": [
    "'''4. Write a Python program to calculate the sum of the digits in an integer.'''\n",
    "\n",
    "def sum_digits(num):\n",
    "    sums = 0;\n",
    "    while(num):\n",
    "        dig = num%10\n",
    "        sums +=dig\n",
    "        num = num//10\n",
    "    return sums\n",
    "\n",
    "#main\n",
    "num = int(input(\"Enter a number: \"))\n",
    "ans = sum_digits(num)\n",
    "print(\"The sum of the digits of %d is %d\" %(num, ans))"
   ]
  },
  {
   "cell_type": "code",
   "execution_count": null,
   "metadata": {},
   "outputs": [],
   "source": []
  }
 ],
 "metadata": {
  "kernelspec": {
   "display_name": "Python 3",
   "language": "python",
   "name": "python3"
  },
  "language_info": {
   "codemirror_mode": {
    "name": "ipython",
    "version": 3
   },
   "file_extension": ".py",
   "mimetype": "text/x-python",
   "name": "python",
   "nbconvert_exporter": "python",
   "pygments_lexer": "ipython3",
   "version": "3.7.3"
  }
 },
 "nbformat": 4,
 "nbformat_minor": 2
}
