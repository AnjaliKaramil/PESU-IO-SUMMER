{
 "cells": [
  {
   "cell_type": "code",
   "execution_count": 7,
   "metadata": {},
   "outputs": [
    {
     "name": "stdout",
     "output_type": "stream",
     "text": [
      "Enter a string: #$%\n",
      "#$% is NOT a numeric string!\n"
     ]
    }
   ],
   "source": [
    "'''5. Write a Python program to check if a string is numeric.'''\n",
    "#A numeric string is a string consisting of numbers alone\n",
    "def is_numeric(content):\n",
    "    for letter in content:\n",
    "        if(ord(letter)<48 or ord(letter)>(48+9)): #ascci value of 0-9 -> 48 to 57. Only non numbers satisfy here. \n",
    "            return 0\n",
    "    else:\n",
    "        return 1;\n",
    "    \n",
    "#main:\n",
    "content = input(\"Enter a string: \")\n",
    "check = is_numeric(content)\n",
    "if(check):\n",
    "    print(content, \"is a numeric string!\")\n",
    "else:\n",
    "    print(content, \"is NOT a numeric string!\")\n",
    "    \n",
    "            \n"
   ]
  },
  {
   "cell_type": "code",
   "execution_count": null,
   "metadata": {},
   "outputs": [],
   "source": []
  }
 ],
 "metadata": {
  "kernelspec": {
   "display_name": "Python 3",
   "language": "python",
   "name": "python3"
  },
  "language_info": {
   "codemirror_mode": {
    "name": "ipython",
    "version": 3
   },
   "file_extension": ".py",
   "mimetype": "text/x-python",
   "name": "python",
   "nbconvert_exporter": "python",
   "pygments_lexer": "ipython3",
   "version": "3.7.3"
  }
 },
 "nbformat": 4,
 "nbformat_minor": 2
}
